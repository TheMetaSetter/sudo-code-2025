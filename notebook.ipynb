{
 "cells": [
  {
   "cell_type": "code",
   "execution_count": null,
   "id": "c3de8e34",
   "metadata": {},
   "outputs": [],
   "source": [
    "import json\n",
    "from preprocess.text_normalizer import (\n",
    "    normalize_nfc,\n",
    "    strip_html,\n",
    "    normalize_spacing,\n",
    ")"
   ]
  },
  {
   "cell_type": "code",
   "execution_count": 2,
   "id": "ac36f0b4",
   "metadata": {},
   "outputs": [
    {
     "data": {
      "text/plain": [
       "{'id': 218270,\n",
       " 'author': '',\n",
       " 'content': \"Chiều 31/7, Công an tỉnh Thừa Thiên - Huế đã có thông tin ban đầu về vụ nổ súng,cướp tiệm vàng tại chợ Đông Ba nằm trên đường Trần Hưng Đạo (TP Huế, tỉnh Thừa Thiên - Huế). Thông Sài Gòn Giải Phóng, khoảng 12h30' ngày 31/7, một đối tượng sử dụng súng AK bất ngờ xông vào tiệm vàng Hoàng Đức và Thái Lợi (phía trước chợ Đông Ba) rồi nổ súng chỉ thiên liên tiếp uy hiếp chủ tiệm để cướp vàng. Sau đó, đối tượng mang số vàng vừa cướp được vứt ra vỉa hè rồi đi bộ đến khu vực cầu Gia Hội, cách khu vực gây án khoảng 300m. Giám đốc Công an tỉnh Thừa Thiên – Huế lập tức trực tiếp chỉ đạo các lực lượng chức năng gồm Công an tỉnh và Công an TP Huế nhanh chóng có mặt tại hiện trường triển khai đồng bộ các biện pháp nghiệp vụ, khoanh vùng và ngăn không để người dân đi vào hiện trường. Hàng trăm tiểu thương trong chợ Đông Ba và người dân gần cầu Gia Hội được yêu cầu di chuyển khỏi hiện trường, đóng cửa nhà đề phòng đạn lạc. Tuy nhiên, thấy vàng bị ném ra đường, nhiều người đua nhau nhặt, tạo cảnh nhốn nháo trước cổng chợ. Do đây là khu vực trung tâm TP Huế, đông dân nên để đảm bảo an toàn cho người dân, lực lượng công an đã tìm cách hướng đối tượng ra nhà lục giác tại khu vực Công viên Trịnh Công Sơn (cạnh cầu Gia Hội). Lúc này, đối tượng có biểu hiện kích động muốn tự tử nên Đại tá Phạm Văn Toàn, Trưởng Phòng Cảnh sát hình sự Công an tỉnh Thừa Thiên – Huế và một số đồng chí Công an khác trực tiếp tiếp cận, thuyết phục đối tượng. Đối tượng lại yêu cầu được nói chuyện với Đại tá Đặng Ngọc Sơn, Phó Giám đốc Công an tỉnh. Ngay sau đó, khi được Đại tá Đặng Ngọc Sơn gặp gỡ, động viên, thuyết phục, đối tượng đã đồng ý hạ và giao nộp vũ khí. Theo VnExpress cho biết, tên cướp là Ngô Văn Quốc, 38 tuổi, quân hàm đại úy, công tác tại Trại giam Bình Điền, đóng ở xã Bình Tiến, thị xã Hương Trà. Khẩu súng gây án đã bị thu giữ. Hiện trường hai tiệm vàng bị phong tỏa để công an khám nghiệm. Phía trong nhiều mảnh kính bị vỡ văng vãi khắp nơi. Đông Ba là chợ nổi tiếng và sầm uất nhất TP Huế, nằm bên bờ bắc sông Hương, trên đường Trần Hưng Đạo. Nơi đây thu hút nhiều du khách trong và ngoài nước trong hành trình du lịch Huế. Theo MT (2sao/VietNamNet) https://2sao.vn/ten-cuop-tiem-vang-tai-hue-la-dai-uy-cong-an-cong-tac-tai-trai-giam-n-315312.html Trang Thông tin điện tử Docbao.vn Công ty Cổ phần Quang Minh Việt Nam Giấy phép thiết lập Trang thông tin điện tử tổng hợp trên Internet số 2372/GP-STTTT cấp ngày 29/8/2014. SĐT: 024. 666.40816 Địa chỉ: P604, Tầng 6, Tòa nhà Golden Field, Khu đô thị mới Mỹ Đình 1, phường Cầu Diễn, quận Nam Từ Liêm, Hà Nội Chịu trách nhiệm nội dung: Điều Thị Bích; ĐT: 0903.263.198; Email: docbao@kib.vn Đọc báo trực tuyến hiện tại chỉ sử dụng tên miền duy nhất là docbao.vn; độc giả lưu ý tránh nhầm lẫn. Chính sách bảo mật RSS\",\n",
       " 'picture_count': 3,\n",
       " 'processed': 0,\n",
       " 'source': 'docbao.vn',\n",
       " 'title': 'Tên cướp tiệm vàng tại Huế là đại uý công an, công tác tại Trại giam',\n",
       " 'topic': 'Pháp luật',\n",
       " 'url': 'https://docbao.vn/phap-luat/ten-cuop-tiem-vang-tai-hue-la-dai-uy-cong-an-cong-tac-tai-trai-giam-tintuc834608',\n",
       " 'crawled_at': '2022-08-01 09:09:22.817308'}"
      ]
     },
     "execution_count": 2,
     "metadata": {},
     "output_type": "execute_result"
    }
   ],
   "source": [
    "path_to_raw_data = \"./data/raw/news_dataset.json\"\n",
    "\n",
    "with open(path_to_raw_data, \"r\") as data_file:\n",
    "    data = json.load(data_file)\n",
    "data[0]"
   ]
  },
  {
   "cell_type": "code",
   "execution_count": null,
   "id": "655b9d89",
   "metadata": {},
   "outputs": [],
   "source": [
    "def preprocess_content(content: str) -> str:\n",
    "    # Normalize content into Unicode NFC\n",
    "    content = normalize_nfc(content)\n",
    "    \n",
    "    # Remove HTML tags\n",
    "    content = strip_html(content)\n",
    "    \n",
    "    # Normalize spacing\n",
    "    content = normalize_spacing(content)\n",
    "    \n",
    "    # Using sentence tokenizer to detect sentences and add missing ending dot\n",
    "    # at the end of some sentences\n",
    "    \n",
    "    \n",
    "    # Use LLM to detect misspelled words, expand abbreviations,\n",
    "    # and replace sources (url, email, phone) with special tokens\n",
    "    "
   ]
  },
  {
   "cell_type": "code",
   "execution_count": 6,
   "id": "19c5dcf2",
   "metadata": {},
   "outputs": [
    {
     "name": "stdout",
     "output_type": "stream",
     "text": [
      "Tiền đạo SLNA Olaha đã phải nhận thẻ đỏ trực tiếp trong trận đấu với Hà Nội sau khi trọng tài Nguyễn Minh Hải cho rằng anh này đã đánh cùi chỏ trong một pha tranh bóng bổng với Đậu Văn Toàn ở giữa sân. VIDEO VTV6 trực tiếp Hà Nội vs SLNA - Xem trực tiếp bóng đá V-League 2022 (19h15, 31/7)\n",
      "VIDEO VTV6 trực tiếp Hà Nội vs SLNA - Xem trực tiếp bóng đá V-League 2022 (19h15, 31/7). Xem bóng đá trực tiếp Hà Nội vs SLNA. VTV6 trực tiếp bóng đá hôm nay. (adsbygoogle = window.adsbygoogle || []).push({}); Tuy nhiên, các pha quay chậm sau đó cho thấy dường như thẻ đỏ này là quá nặng. Olaha có vẻ chỉ gạt ngang tay vào cổ Văn Toàn chứ chưa có động tác thúc cùi chỏ. Do đó, thẻ vàng có lẽ là hợp lý hơn trong tình huống này. Olaha chính là tác giả bàn mở tỷ số đầu trận cho SLNA. Ngay sau khi phải chơi thiếu người, SLNA đã bị gỡ hòa trên chấm 11m sau khi Thái Bá Sang để bóng chạm tay trong vòng cấm. Tình huống Olaha nhận thẻ đỏ tranh cãi V.M\n"
     ]
    }
   ],
   "source": [
    "preprocess_content(data[1000]['content'])"
   ]
  }
 ],
 "metadata": {
  "kernelspec": {
   "display_name": "sudo-code-2025",
   "language": "python",
   "name": "python3"
  },
  "language_info": {
   "codemirror_mode": {
    "name": "ipython",
    "version": 3
   },
   "file_extension": ".py",
   "mimetype": "text/x-python",
   "name": "python",
   "nbconvert_exporter": "python",
   "pygments_lexer": "ipython3",
   "version": "3.9.23"
  }
 },
 "nbformat": 4,
 "nbformat_minor": 5
}
