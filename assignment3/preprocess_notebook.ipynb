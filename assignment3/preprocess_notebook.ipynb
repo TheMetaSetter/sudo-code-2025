{
 "cells": [
  {
   "cell_type": "markdown",
   "id": "8b0739e0",
   "metadata": {},
   "source": [
    "## Import các thư viện cần thiết"
   ]
  },
  {
   "cell_type": "code",
   "execution_count": 16,
   "id": "1f59f63d",
   "metadata": {},
   "outputs": [
    {
     "name": "stderr",
     "output_type": "stream",
     "text": [
      "/Users/conquerormikrokosmos/miniforge3/envs/sudo-code-2025/lib/python3.9/site-packages/tqdm/auto.py:21: TqdmWarning: IProgress not found. Please update jupyter and ipywidgets. See https://ipywidgets.readthedocs.io/en/stable/user_install.html\n",
      "  from .autonotebook import tqdm as notebook_tqdm\n"
     ]
    }
   ],
   "source": [
    "import os\n",
    "import glob\n",
    "import random\n",
    "from transformers import AutoTokenizer, AutoModelForTokenClassification\n",
    "from transformers import pipeline"
   ]
  },
  {
   "cell_type": "markdown",
   "id": "7080b7e6",
   "metadata": {},
   "source": [
    "## Kiểm tra đường dẫn đến dataset"
   ]
  },
  {
   "cell_type": "code",
   "execution_count": 2,
   "id": "56e3b172",
   "metadata": {},
   "outputs": [],
   "source": [
    "data_path = \"../data/raw/viwik18/dataset\""
   ]
  },
  {
   "cell_type": "code",
   "execution_count": 3,
   "id": "13936514",
   "metadata": {},
   "outputs": [
    {
     "name": "stdout",
     "output_type": "stream",
     "text": [
      "viwik18_aa viwik18_ac viwik18_ae viwik18_ag viwik18_ai\n",
      "viwik18_ab viwik18_ad viwik18_af viwik18_ah viwik18_aj\n"
     ]
    }
   ],
   "source": [
    "!ls ../data/raw/viwik18/dataset"
   ]
  },
  {
   "cell_type": "code",
   "execution_count": 4,
   "id": "8560e48e",
   "metadata": {},
   "outputs": [
    {
     "data": {
      "text/plain": [
       "['viwik18_aa',\n",
       " 'viwik18_ab',\n",
       " 'viwik18_ac',\n",
       " 'viwik18_ad',\n",
       " 'viwik18_ae',\n",
       " 'viwik18_af',\n",
       " 'viwik18_ag',\n",
       " 'viwik18_ah',\n",
       " 'viwik18_ai',\n",
       " 'viwik18_aj']"
      ]
     },
     "execution_count": 4,
     "metadata": {},
     "output_type": "execute_result"
    }
   ],
   "source": [
    "filename_list = os.listdir(data_path)\n",
    "filename_list.sort()\n",
    "filename_list"
   ]
  },
  {
   "cell_type": "code",
   "execution_count": 5,
   "id": "c2bfd410",
   "metadata": {},
   "outputs": [
    {
     "data": {
      "text/plain": [
       "['../data/raw/viwik18/dataset/viwik18_aa',\n",
       " '../data/raw/viwik18/dataset/viwik18_ab',\n",
       " '../data/raw/viwik18/dataset/viwik18_ac',\n",
       " '../data/raw/viwik18/dataset/viwik18_ad',\n",
       " '../data/raw/viwik18/dataset/viwik18_ae',\n",
       " '../data/raw/viwik18/dataset/viwik18_af',\n",
       " '../data/raw/viwik18/dataset/viwik18_ag',\n",
       " '../data/raw/viwik18/dataset/viwik18_ah',\n",
       " '../data/raw/viwik18/dataset/viwik18_ai',\n",
       " '../data/raw/viwik18/dataset/viwik18_aj']"
      ]
     },
     "execution_count": 5,
     "metadata": {},
     "output_type": "execute_result"
    }
   ],
   "source": [
    "# Concat the filename with the data file path to get the full path of each file\n",
    "filepath_list = [os.path.join(data_path, filename) for filename in filename_list]\n",
    "filepath_list"
   ]
  },
  {
   "cell_type": "code",
   "execution_count": 6,
   "id": "6e87375d",
   "metadata": {},
   "outputs": [
    {
     "data": {
      "text/plain": [
       "'hân vệ đại tướng quân và được ban quy phù đến đời vua trần anh tông ông được thăng tới chức điện súy thượng tướng quân tước quan nội hầu một người con gái của phạm ngũ lão hiệu là tĩnh huệ là thứ phi của vua anh tông   phạm ngũ lão đã ba lần cất quân đi trừng phạt sự xâm chiếm quấy nhiễu của quân ai lao vào các năm một hai chín bốn một hai chín bảy và một ba không một hai lần nam chinh đánh thắng quân chiêm thành vào năm một ba một hai buộc vua chiêm là chế chí phải xin hàng và một ba một tám vua chế năng phải bỏ chạy sang java   văn học  không chỉ có tài về quân sự mà ông còn để lại nhiều bài thơ về chí trai lòng yêu nước tiếc là hiện nay tác phẩm của ông chỉ còn lại hai bài là thuật hoài và vãn thượng tướng quốc công hưng đạo đại vương   đời tư  ông được trần hưng đạo gả con gái là quận chúa anh nguyên   qua đời  ngày một tháng một một năm một ba hai không phạm ngũ lão mất hưởng thọ sáu sáu tuổi vua trần minh tông nghỉ chầu năm ngày đây là một đặc ân của nhà vua đối với ông   nhân d�'"
      ]
     },
     "execution_count": 6,
     "metadata": {},
     "output_type": "execute_result"
    }
   ],
   "source": [
    "# Read the first file with encoding UTF-8.\n",
    "# Replace error bytes with a placeholder character.\n",
    "with open(filepath_list[0], \"r\", encoding=\"utf-8\", errors=\"replace\") as f:\n",
    "    text = f.read()\n",
    "text[-1000:]"
   ]
  },
  {
   "cell_type": "code",
   "execution_count": 7,
   "id": "57d5563f",
   "metadata": {},
   "outputs": [
    {
     "data": {
      "text/plain": [
       "'�n xã phù ủng dựng đền thờ ngay trên nền nhà cũ của ông ông cũng được phối thờ tại đền kiếp bạc chí linh hải dương tại đền thờ trần hưng đạo   tác phẩm  mặc dù chuyên lo việc quân song phạm ngũ lão vẫn thích đọc sách ngâm thơ thơ văn ông hiện chỉ còn lại hai bài thơ chữ hán   thuật hoài làm theo thể thất ngôn tứ tuyệt   vãn hưng đạo đại vương làm theo thể thất ngôn bát cú tuy nhiên có ý kiến cho rằng bài này là của bùi tông hoan   nhận định  nhà sử học lỗi lạc của nước nhà ở thế kỉ thứ xv là tiế'"
      ]
     },
     "execution_count": 7,
     "metadata": {},
     "output_type": "execute_result"
    }
   ],
   "source": [
    "with open(filepath_list[1], \"r\", encoding=\"utf-8\", errors=\"replace\") as f:\n",
    "    text = f.read()\n",
    "text[:500]"
   ]
  },
  {
   "cell_type": "markdown",
   "id": "40152990",
   "metadata": {},
   "source": [
    "### Vấn đề\n",
    "Khi tải dữ liệu Wikipedia dạng _shard_ (chia thành nhiều file nhỏ), một ký tự UTF-8 có thể bị “cắt ngang” ở cuối file đầu tiên và tiếp tục ở đầu file tiếp theo. UTF-8 dùng từ 1–4 byte cho mỗi ký tự, nên nếu chỉ đọc từng file riêng lẻ, Python sẽ gặp `UnicodeDecodeError` vì nó thấy một byte mở đầu mà thiếu byte tiếp theo.\n",
    "\n",
    "Cụ thể với `viwik18_aa`: byte cuối không đủ thông tin để tạo thành ký tự hợp lệ, dẫn đến lỗi decode.\n",
    "\n",
    "### Giải pháp\n",
    "Thay vì decode từng file một, ta nên nối tất cả các file ở mức byte (rb mode) rồi mới decode một lần. Như vậy các byte ký tự bị chia nhỏ ở ranh giới file sẽ được ghép lại đầy đủ, không còn gây lỗi."
   ]
  },
  {
   "cell_type": "code",
   "execution_count": 8,
   "id": "623302eb",
   "metadata": {},
   "outputs": [],
   "source": [
    "# Create a pattern to the data files\n",
    "file_pattern = os.path.join(data_path, \"viwik18_*\")\n",
    "\n",
    "# Search for all data files in the data directory\n",
    "files = sorted(glob.glob(file_pattern))"
   ]
  },
  {
   "cell_type": "code",
   "execution_count": 9,
   "id": "9e58c6b4",
   "metadata": {},
   "outputs": [
    {
     "data": {
      "text/plain": [
       "['../data/raw/viwik18/dataset/viwik18_aa',\n",
       " '../data/raw/viwik18/dataset/viwik18_ab',\n",
       " '../data/raw/viwik18/dataset/viwik18_ac',\n",
       " '../data/raw/viwik18/dataset/viwik18_ad',\n",
       " '../data/raw/viwik18/dataset/viwik18_ae',\n",
       " '../data/raw/viwik18/dataset/viwik18_af',\n",
       " '../data/raw/viwik18/dataset/viwik18_ag',\n",
       " '../data/raw/viwik18/dataset/viwik18_ah',\n",
       " '../data/raw/viwik18/dataset/viwik18_ai',\n",
       " '../data/raw/viwik18/dataset/viwik18_aj']"
      ]
     },
     "execution_count": 9,
     "metadata": {},
     "output_type": "execute_result"
    }
   ],
   "source": [
    "files"
   ]
  },
  {
   "cell_type": "code",
   "execution_count": 10,
   "id": "3fecf1a6",
   "metadata": {},
   "outputs": [],
   "source": [
    "all_bytes = b\"\".join(open(f, \"rb\").read() for f in files)\n",
    "text = all_bytes.decode(\"utf-8\")\n",
    "split_text = text.split(\"  \")"
   ]
  },
  {
   "cell_type": "code",
   "execution_count": 11,
   "id": "fc64da05",
   "metadata": {},
   "outputs": [
    {
     "data": {
      "text/plain": [
       "['trang chính',\n",
       " 'internet society',\n",
       " 'internet society hay isoc là một tổ chức quốc tế hoạt động phi lợi nhuận phi chính phủ và bao gồm các thành viên có trình độ chuyên ngành tổ chức này chú trọng đến tiêu chuẩn giáo dục và các vấn đề về chính sách với trên một bốn năm tổ chức thành viên và sáu năm không không không thành viên cá nhân isoc bao gồm những con người cụ thể trong cộng đồng internet mọi chi tiết có thể tìm thấy tại website của isoc',\n",
       " ' internet society nằm ở gần thủ đô washington dc hoa kỳ và geneva thụy sĩ số hội viên của nó bao gồm hơn một bốn năm tổ chức thành viên và hơn sáu năm không không không cá nhân thành viên còn có thể tự lập một chi nhánh của tổ chức tùy theo vị trí hoặc sở thích hiện nay tổ chức có tới chín không chi nhánh trên toàn thế giới',\n",
       " ' nhiệm vụ và mục đích hoạt động',\n",
       " 'bảo đảm cổ vũ cho sự phát triển mở rộng và sử dụng internet được thuận lợi nhất cho mọi người trên toàn thế giới',\n",
       " ' xem thêm',\n",
       " ' lịch sử internet',\n",
       " 'liên kết ngoài',\n",
       " ' isoc việt nam',\n",
       " 'trang chủ toàn cầu',\n",
       " 'ietf and the internet society về internet engineering task force và isoc bài của vint cerf một tám sáu một chín chín năm',\n",
       " ' l association internationale de lutte contre la cybercriminalité bản lưu',\n",
       " 'public interest registry',\n",
       " 'tiếng việt',\n",
       " 'tiếng việt còn gọi tiếng việt nam hay việt ngữ là ngôn ngữ của người việt và là ngôn ngữ chính thức tại việt nam đây là tiếng mẹ đẻ của khoảng tám năm phần trăm dân cư việt nam cùng với hơn bốn triệu người việt hải ngoại tiếng việt còn là ngôn ngữ thứ hai của các dân tộc thiểu số tại việt nam mặc dù tiếng việt có một số từ vựng vay mượn từ tiếng hán và trước đây dùng chữ nôm một hệ chữ dựa trên chữ hán để viết nhưng tiếng việt được coi là một trong số các ngôn ngữ thuộc ngữ hệ nam á có số người nói nhiều nhất ngày nay tiếng việt dùng bảng chữ cái latinh gọi là chữ quốc ngữ cùng các dấu thanh để viết',\n",
       " ' tiếng việt được chính thức ghi nhận trong hiến pháp nước cộng hòa xã hội chủ nghĩa việt nam hai không một ba tại chương i điều năm mục ba là ngôn ngữ quốc gia của việt nam tiếng việt bao gồm cách phát âm tiếng việt và chữ quốc ngữ để viết tuy nhiên hiện chưa có bất kỳ văn bản nào ở cấp nhà nước quy định giọng chuẩn và quốc tự của tiếng việt hiện nay phần lớn các văn bản trong nước được viết theo những quy định về chính tả tiếng việt và về thuật ngữ tiếng việt áp dụng cho các sách giáo khoa báo và văn bản của ngành giáo dục nêu tại quyết định của bộ giáo dục số hai bốn không qđ ngày năm tháng ba năm một chín tám bốn do những người thụ hưởng giáo dục đó sau này ra làm việc trong mọi lĩnh vực xã hội',\n",
       " ' cũng cần lưu ý tránh nhầm lẫn với việt ngữ hay tiếng quảng đông một ngôn ngữ được sử dụng ở miền nam trung quốc cũng như ở hồng kông và ma cao',\n",
       " ' tổ chức tiêu chuẩn hóa quốc tế đặt mã ngôn ngữ hai chữ cái cho tiếng việt là vi và đặt mã ngôn ngữ ba chữ cái cho tiếng việt là vie',\n",
       " ' xếp loại',\n",
       " 'với những cơ sở khoa học gần đây được đa số các nhà ngôn ngữ học thừa nhận tiếng việt có quan hệ gần gũi với tiếng mường và được xếp vào ngữ chi việt thuộc nhóm ngôn ngữ môn khmer trong hệ nam á ở khu vực đông nam á hiện nay',\n",
       " ' những ngôn ngữ này có chung một số từ vựng căn bản thí dụ từ tay trong tiếng việt tương đương trong tiếng mường là thay trong tiếng khmer là đay và trong tiếng môn là tai',\n",
       " ' lịch sử',\n",
       " 'tiếng việt là ngôn ngữ có nguồn gốc bản địa xuất thân từ nền văn minh nông nghiệp tại nơi mà ngày nay là khu vực phía bắc lưu vực sông hồng và sông mã của việt nam',\n",
       " ' theo a g haudricourt giải thích từ năm một chín năm bốn nhóm ngôn ngữ việt mường ở thời kỳ khoảng đầu công nguyên là những ngôn ngữ hay phương ngữ không thanh điệu về sau qua quá trình giao thoa với hoa ngữ và nhất là với các ngữ thuộc ngữ hệ tai kadai vốn có hệ thống thanh điệu phát triển cao hệ thống thanh điệu trong tiếng việt xuất hiện và có diện mạo như ngày nay theo quy luật hình thành thanh điệu sự xuất hiện các thanh điệu bắt đầu khoảng thế kỷ thứ vi với ba thanh điệu và phát triển ổn định vào khoảng thế kỷ xii với sáu thanh điệu sau đó một số phụ âm đầu biến đổi cho tới ngày nay trong quá trình biến đổi các phụ âm cuối rụng đi làm thay đổi các kết thúc âm tiết và phụ âm đầu chuyển từ lẫn lộn vô thanh với hữu thanh sang tách biệt',\n",
       " ' ví dụ của a g haudricourt',\n",
       " 'ảnh hưởng từ trung hoa',\n",
       " 'tiếng việt là ngôn ngữ dùng trong sinh hoạt giao tiếp của dân thường từ khi lập nước giai đoạn từ đầu công nguyên tiếng việt có rất nhiều âm không có trong tiếng trung từ khi tiếng trung có ảnh hưởng tới việt nam thông qua nhiều con đường và bao gồm nhiều giai đoạn khác nhau tiếng việt bắt đầu có những âm được vay mượn từ tiếng trung các tác giả mai ngọc chừ vũ đức nghiệu và hoàng trọng phiến trong cuốn sách cơ sở ngôn ngữ học và tiếng việt chia quá trình tiếp xúc hán việt thành hai giai đoạn lớn',\n",
       " ' giai đoạn từ đầu công nguyên đến đầu thời nhà đường từ vựng tiếng hán ảnh hưởng tới tiếng việt trong giai đoạn này gọi là từ hán cổ',\n",
       " ' giai đoạn từ thời nhà đường trở về sau từ vựng tiếng hán ảnh hưởng tới tiếng việt trong giai đoạn này gọi là từ hán việt',\n",
       " ' từ hán cổ và từ hán việt được gọi chung là từ gốc hán',\n",
       " ' một số từ ngữ hán cổ có thể kể đến như đầu gan ghế ông bà cô chè ngà chén chém chìm buồng buồn buồm mùi mùa từ hán cổ là những từ gốc hán được du nhập vào tiếng việt đã lâu đã được đồng hoá rất mạnh nên những từ này hiện nay là từ thông thường trong hoạt động xã hội đối với người việt',\n",
       " ' hệ thống hán việt trong tiếng việt bằng cách đọc các chữ hán theo ngữ âm hiện có của tiếng việt số lượng từ vựng tiếng việt có thêm hàng loạt các yếu tố hán việt như là chủ ở tâm minh đức thiên tự do giữ nguyên nghĩa chỉ khác cách đọc hay thay đổi vị trí như nhiệt náo thành náo nhiệt thích phóng thành phóng thích đảm bảo thành bảo đảm hoặc được rút gọn như thừa trần thành trần lạc hoa sinh thành lạc hoặc được đọc chệch đi như tiếp thu thành tiếp thụ tháp nhập thành sáp nhập thống kế thành thống kê chúng cư thành chung cư vãn cảnh thành vãng cảnh khuyến mãi thành khuyến mại hay đổi khác nghĩa hoàn toàn như phương phi trong tiếng hán có nghĩa là hoa cỏ thơm tho thì trong tiếng việt lại là béo tốt bồi hồi trong tiếng hán nghĩa là đi đi lại lại sang tiếng việt thành bồn chồn xúc động mặt khác người trung quốc gọi là thái sơn hoàng hà cổ thụ thì người việt lại đọc là núi thái sơn sông hoàng hà cây cổ thụ do tính quy ước của ngôn ngữ mà ít nhiều các cách đọc sai khác với tiếng hán vẫn được chấp nhận và sử dụng rộng rãi trong khi các nhà nghiên cứu ngôn ngữ tiếng việt hiện nay cũng như các cơ quan các cấp quản lý tổ chức xã hội nghề nghiệp lẫn các nhà khoa học việt nam chưa tìm được tiếng nói chung trong việc chuẩn hoá cách sử dụng tên riêng và từ vựng mượn từ tiếng nước ngoài bên cạnh đó cũng có những từ được cho là dùng sai và khó chấp nhận như quan ngại được dùng và hiểu như lo ngại vấn nạn được hiểu là vấn đề nan giải vô hình trung thì viết thành vô hình chung hay vô hình dung việt dã bị hiểu là chạy dài trứ tác được dùng như sáng tác phong thanh được dùng như phong phanh bàng quan được dùng như bàng quang đào ngũ được dùng là đảo ngũ tham quan thành thăm quan xán lạn thành sáng lạng',\n",
       " ' đặc biệt là các yếu tố hán việt được sử dụng để tạo nên những từ ngữ đặc trưng chỉ có trong tiếng việt không có trong tiếng hán như là các từ sĩ diện phi công hay bao gồm sống động sinh đẻ nói chung tỉ lệ vay mượn tiếng hán trong tiếng việt rất lớn theo ước lượng của các nhà nghiên cứu từ hán việt chiếm khoảng trên dưới bảy không phần trăm vốn từ trong phong cách chính luận khoa học tác giả lê nguyễn lưu trong cuốn sách từ chữ hán đến chữ nôm thì cho rằng về lĩnh vực chuyên môn và khoa học tỉ lệ này có thể lên đến tám không phần trăm nhưng khi nhận xét về văn ngữ trong một cuốn tiểu thuyết thì chỉ còn một hai tám phần trăm kịch nói rút xuống còn tám chín phần trăm và ngôn ngữ nói chuyện hằng ngày còn thấp hơn nữa dù ở tỷ lệ nào đi nữa đại đa số những từ đó đều đã được việt hóa cho phù hợp với nhận thức của người việt tiếng việt gọi là thủ tướng nhưng tiếng hoa là tổng lý tiếng việt là truyền hình thì tiếng hoa là điện thị tiếng việt là thành phố thì tiếng hoa là đô thị những chữ thủ tướng truyền hình thành phố hoàn toàn là hán việt nhưng người hoa tuyệt nhiên không dùng do vậy tiếng việt dù vay mượn tiếng hán nhưng giữ được bản sắc riêng của mình trước ảnh hưởng của văn hóa hán trong khi lợi dụng được những thành tựu ngôn ngữ trong tiếng hán để tự cải tiến mình',\n",
       " ' kể từ đầu thế kỷ thứ xi nho học phát triển việc học văn tự chữ nho được đẩy mạnh tầng lớp trí thức được mở rộng tạo tiền đề cho một nền văn chương của người việt bằng chữ nho cực kỳ phát triển với cái áng văn thư nổi tiếng như nam quốc sơn hà bên sông như nguyệt',\n",
       " ' cùng thời gian này một hệ thống chữ viết được xây dựng riêng cho người việt theo nguyên tắc ghi âm tiết được phát triển và đó chính là chữ nôm để tiện cho việc học chữ hán và chữ nôm của người việt ngô thì nhậm đã biên soạn cuốn sách tam thiên tự giải âm tam thiên tự giải âm chỉ lược dạy ba không không không chữ hán nôm thông thường đáp ứng nhu cầu cần thiết nhớ chữ nhớ nghĩa từng chữ mỗi câu bốn chữ hiệp vần cũng có điểm đặc biệt tức là vần lưng tiếng thứ tư câu đầu hiệp với tiếng thứ hai câu dưới rồi cứ thế mãi đến ba không không không chữ bảy năm không câu ví dụ thiên trời địa đất cử cất tồn còn tử con tôn cháu lục sáu tam ba gia nhà quốc nước tiền trước hậu sau ngưu trâu mã ngựa cự cựa nha răng vô chăng hữu có khuyển chó dương dê v v trần văn giáp đánh giá đây tuy chỉ là quyển sách dạy học vỡ lòng về chữ hán như lời tác giả đã nói nhưng thực ra cũng có thể coi nó chính là sách tự điển hán việt thông thường và phổ biến ở cuối thế kỷ xviii cùng thời với các sách chỉ nam ngọc âm chỉ nam bị loại và xuất hiện trước các sách nhật dụng thường đàm thiên tự văn và đại nam quốc ngữ nhờ có chữ nôm văn học việt nam đã có những bước phát triển rực rỡ nhất đạt đỉnh cao với truyện kiều của nguyễn du tiếng việt được thể hiện bằng chữ nôm ở những thời kỳ sau này về cơ bản rất gần với tiếng việt ngày nay tuy hầu hết mọi người việt đều có thể nghe và hiểu văn bản bằng chữ nôm chỉ những người có học chữ nôm mới có thể đọc và viết được chữ nôm',\n",
       " ' chữ nôm được chính thức dùng trong hành chính khi vua quang trung lên ngôi vào năm một bảy tám chín',\n",
       " ' ảnh hưởng từ châu âu',\n",
       " 'từ khi pháp xâm lược việt nam vào nửa cuối thế kỷ thứ xix tiếng pháp dần dần thay thế vị trí của chữ nho trở thành ngôn ngữ chính thức trong giáo dục hành chính và ngoại giao chữ quốc ngữ vốn được tạo ra bởi một số nhà truyền giáo châu âu đặc biệt là hai tu sĩ người bồ đào nha gaspar do amaral và antonio barbosa với mục đích dùng ký tự latinh để biểu hiện tiếng việt ngày càng được phổ biến và được người việt tiếp nhận',\n",
       " ' tờ gia định báo là tờ báo đầu tiên được phát hành bằng chữ quốc ngữ tại nam kỳ vào năm một tám sáu năm đặt nền móng cho sự phát triển và xu hướng của chữ quốc ngữ như là chữ viết chính thức của nước việt nam độc lập sau này',\n",
       " ' mặt khác những khái niệm chính trị xã hội kỹ thuật mới dẫn đến việc nhập các thuật ngữ từ ngữ mới có hai xu hướng về cách thức nhập thuật ngữ là',\n",
       " ' một nhập từ phiên âm của ngôn ngữ phương tây chủ yếu là từ tiếng pháp và thường được sử dụng bởi tầng lớp thị dân vốn không thạo chữ hán như ghi đông phanh lốp găng pê đan phuốc tăng',\n",
       " ' hai nhập qua tiếng trung như chính đảng kinh tế giai cấp bán kính trong giới văn hoa thì các tên riêng phương tây được dùng là từ hán việt như á căn đình nã phá luân hay tòa bạch ốc và được coi là biểu hiện sự trang trọng',\n",
       " ' thời kỳ một chín bốn năm cho đến nay',\n",
       " 'chữ quốc ngữ là chữ ghi âm chỉ sử dụng hai bảy ký tự latin và sáu dấu thanh đơn giản tiện lợi và có tính khoa học cao dễ học dễ nhớ thông dụng thay thế hoàn toàn tiếng pháp và tiếng hán vốn khó đọc khó nhớ không thông dụng với người việt',\n",
       " ' trong thời kỳ chiến tranh việt nam sự phát triển tiếng việt trong chính thể việt nam dân chủ cộng hòa ở miền bắc và việt nam cộng hòa ở miền nam diễn ra có chút khác nhau chủ yếu ở sử dụng từ hán việt và phiên âm tên trong tiếng nước ngoài',\n",
       " ' tại miền bắc có xu hướng chuyển sang sử dụng từ thuần việt thay thế từ hán việt cùng nghĩa còn ở miền nam thì vẫn giữ nguyên việc sử dụng từ hán việt như thời trước một chín bốn năm ví dụ như miền nam vẫn giữ tên ngân hàng quốc gia trong khi miền bắc đổi thành ngân hàng nhà nước miền nam lại gọi là phi trường thì miền bắc gọi là sân bay miền nam gọi là ngũ giác đài thì miền bắc gọi là lầu năm góc miền nam gọi là đệ nhứt thế chiến thì miền bắc kiên quyết gọi là chiến tranh thế giới thứ nhất miền nam gọi là hỏa tiễn thì miền bắc lại gọi là tên lửa miền nam vẫn gọi là thủy quân lục chiến còn miền bắc lại đổi thành lính thủy đánh bộ ngược lại danh từ miền bắc như tham quan sự cố nhất trí đăng ký đột xuất vô tư v v thì miền nam dùng những chữ thăm viếng trở ngại trục trặc đồng lòng ghi tên bất ngờ thoải mái',\n",
       " ' việc phiên âm tên tiếng nước ngoài thì ở miền nam vẫn theo cách trước một chín bốn năm là dùng tên theo từ hán việt như băng đảo úc đại lợi hung gia lợi ba tây tại miền bắc thì chuyển sang phiên âm trực tiếp thành ai xơ len ô xtrây li a hung ga ri và trừ ra các tên hán việt của đối tượng đã quá phổ biến như pháp đức anh nga cá biệt một tên tiếng trung là zhuang được phiên âm trực tiếp theo giọng hà nội thành choang trong tên khu tự trị dân tộc choang quảng tây tại miền nam sự hiện diện của quân đội hoa kỳ đã đem một số từ tiếng anh vào ngôn ngữ giao tiếp hằng ngày',\n",
       " ' sau khi việt nam thống nhất vào năm một chín bảy năm quan hệ bắc nam được kết nối lại gần đây sự phổ biến của các phương tiện truyền thanh và truyền hình trên toàn quốc đã làm tiếng việt được chuẩn hóa một phần nào nhiều từ thuần việt được sử dụng phổ biến thay cho từ hán việt cũng như với sự tiến triển của internet và toàn cầu hóa ảnh hưởng của tiếng anh ngày càng lớn trên báo chí và đội ngũ phóng viên nhiều từ nước ngoài được đưa vào tiếng việt thiếu chọn lọc viết nguyên bản theo ngôn ngữ nước ngoài',\n",
       " ' phân bố',\n",
       " 'tiếng việt là ngôn ngữ chính thức tại việt nam và cũng là ngôn ngữ phổ thông đối với các dân tộc thiểu số tại việt nam thêm vào đó tiếng việt được hơn một triệu người sử dụng tại hoa kỳ cũng như trên một không không không không không người tại canada và úc',\n",
       " ' theo ethnologue tiếng việt còn được nhiều người sử dụng tại anh ba lan campuchia côte d ivoire đức hà lan lào na uy nouvelle calédonie phần lan pháp philippines cộng hòa séc sénégal thái lan trung quốc và vanuatu tiếng việt cũng còn được dùng bởi những người việt sống tại đài loan nga',\n",
       " ' ngoài ra tiếng việt cũng được công nhận là ngôn ngữ dân tộc thiểu số tại cộng hòa séc vì người việt được công nhận là dân tộc thiểu số tại séc',\n",
       " ' tiếng địa phương',\n",
       " 'tiếng việt có sự thay đổi trong giọng nói từ bắc vào nam không đột ngột mà tiệm tiến dần theo từng vùng liền nhau trong đó giọng bắc giọng trung huế và giọng nam sài gòn là ba phân loại chính những tiếng địa phương này khác nhau ở giọng điệu và từ địa phương thanh ngã và thanh hỏi ở miền bắc rõ hơn ở miền nam và trung miền bắc sử dụng một số phụ âm khác với miền nam và trung giọng huế khó hiểu hơn những giọng khác vì có nhiều từ địa phương từ điển việt bồ la của alexandre de rhodes lấy tiếng miền bắc làm nền tảng dictionarium anamitico latinum của pierre pigneaux de béhaine lấy tiếng miền nam làm nền tảng theo trang thông tin của đại sứ quán việt nam tại trung quốc và học giả laurence thompson thì cách đọc tiêu chuẩn hiện nay được dựa vào giọng hà nội tuy nhiên chưa có quy định nào nói rằng giọng hà nội là chuẩn quốc gia',\n",
       " ' ngữ âm',\n",
       " 'nguyên âm',\n",
       " 'giống như nhiều ngôn ngữ khác ở đông nam á tiếng việt khá phong phú về nguyên âm dưới đây là bảng các nguyên âm theo giọng hà nội',\n",
       " 'trong bảng trên các nguyên âm trước giữa và nguyên âm mở là nguyên âm không tròn môi còn lại là nguyên âm tròn môi ă và â là dạng ngắn của a và ơ',\n",
       " ' đồng thời tiếng việt còn có hệ thống nguyên âm đôi và nguyên âm ba',\n",
       " ' phụ âm',\n",
       " 'bảng dưới đây trình bày các phụ âm trong tiếng việt và cách viết',\n",
       " 'một số phụ âm chỉ có một cách viết nhưng một số có nhiều cách viết như k có thể được biểu diễn bằng c k hay q',\n",
       " 'đồng thời các phụ âm có thay đổi tuỳ theo địa phương sự khác biệt về phụ âm giữa các vùng miền được trình bày kĩ hơn trong bài phương ngữ tiếng việt',\n",
       " ' thanh điệu',\n",
       " 'tiếng việt là một ngôn ngữ thanh điệu mọi âm tiết của tiếng việt luôn mang một thanh điệu nào đó do các thanh điệu của tiếng việt trong chữ quốc ngữ được biểu thị bằng các dấu thanh còn gọi là dấu nên một số người quen gọi các thanh điệu của tiếng việt là các dấu có sự khác biệt về số lượng thanh điệu và điệu trị của thanh điệu giữa các phương ngôn của tiếng việt thanh điệu có tên gọi giống nhau không đồng nghĩa với việc chúng sẽ được nói giống nhau trong mọi phương ngôn của tiếng việt phương ngôn tiếng việt bắc bộ có sáu thanh điệu phương ngôn tiếng việt trung bộ và nam bộ có năm thanh điệu thanh điệu của tiếng việt tiêu chuẩn được cho là gồm sáu thanh ngang sắc huyền hỏi ngã nặng nhưng lại thiếu các quy định cụ thể về việc lấy cách phát âm trong phương ngôn nào của tiếng việt làm cách phát âm tiêu chuẩn cho sáu thanh điệu này',\n",
       " ' các âm tiết mang vần nhập thanh tức là các vần kết thúc bằng một trong ba phụ âm cuối chỉ có thể mang thanh sắc hoặc thanh nặng ba âm tắc trên đã làm cho các âm tiết mang vần nhập thanh chỉ có thể mang các thanh điệu có điệu trị ngắn và nhanh',\n",
       " ' trong thơ ca các thanh điệu được phân thành hai nhóm thanh bằng gồm có ngang và huyền thanh trắc gồm các thanh còn lại trong các thể thơ cổ như đường luật và lục bát sự hoà hợp thanh điệu bằng trắc giữa các tiếng trong một câu thơ rất quan trọng',\n",
       " ' ngữ pháp',\n",
       " 'giống như nhiều ngôn ngữ khác tại đông nam á tiếng việt là một ngôn ngữ đơn lập các quan hệ ngữ pháp được thể hiện chủ yếu thông qua hệ thống hư từ và cách sắp xếp trật tự từ trong câu trật tự từ thông dụng nhất trong tiếng việt là chủ ngữ vị ngữ phụ ngữ',\n",
       " ' vị trí các từ được sắp xếp theo thứ tự từ mang ý chính đứng trước từ mang ý phụ phụ đứng sau bổ sung nghĩa cho từ mang ý chính tương tự như danh từ đứng trước tính từ đứng sau bổ sung nghĩa cho danh từ',\n",
       " ' tiếng việt còn có hệ thống đại từ nhân xưng phức tạp dựa trên các từ ngữ chỉ quan hệ thân thuộc và hệ thống danh từ đơn vị',\n",
       " ' từ vựng',\n",
       " 'từ vựng tiếng việt được chia ra thành hai bộ phận lớn từ thuần việt và từ mượn ngoài ra còn có những từ hỗn chủng là kết quả của sự kết hợp các yếu tố thuần việt và ngoại lai',\n",
       " ' từ thuần việt',\n",
       " 'từ thuần việt là những từ xuất hiện lâu đời trong tiếng việt biểu thị những sự vật hiện tượng khái niệm cơ bản nhất trong đời sống hàng ngày do có sự tiếp xúc từ rất sớm với các ngôn ngữ nhóm tày thái nên nhiều từ thuần việt và các từ tương ứng trong các tiếng này có sự giống nhau nhất định về ngữ âm và ngữ nghĩa',\n",
       " ' trước một chín sáu không một số từ thuần việt được dùng để đặt tên thông tục cho người trong tầng lớp bình dân hoặc để tránh bị ma quỷ thần thánh bắt đi tại miền bắc có các tên như rụt tằm cột nhẹ nhàng hơn thì là cu gái tại miền nam có các tên như đực sự phát triển dân trí dẫn đến cách đặt tên thông tục giảm dần',\n",
       " ' từ hán việt',\n",
       " 'sự tiếp xúc giữa tiếng việt và tiếng hán bắt đầu khi nhà hán của trung quốc xâm chiếm nước việt quá trình tiếp xúc lâu dài đã đưa vào tiếng việt một khối lượng từ ngữ rất lớn của tiếng hán giai đoạn đầu hiện tượng này diễn ra lẻ tẻ rời rạc chủ yếu thông qua đường khẩu ngữ qua sự tiếp xúc giữa người việt và người hán tạo nên một lớp từ có nguồn gốc hán cổ mà ngày nay đã hoà lẫn với các từ thuần việt đến đời đường tiếng việt mới có sự tiếp nhận các từ ngữ hán một cách có hệ thống qua đường sách vở các từ ngữ gốc hán này chủ yếu được đọc theo ngữ âm đời đường tuân thủ nguyên tắc ngữ âm tiếng việt gọi là âm hán việt khi được đưa vào tiếng việt bên cạnh việc bị thay đổi về mặt ngữ âm nhiều từ hán việt bị thay đổi cả ngữ nghĩa',\n",
       " ' từ hán việt chiếm một phần không nhỏ trong vốn từ vựng tiếng việt chúng có vai trò quan trọng hiện diện trong tất cả các lĩnh vực của đời sống xã hội người việt ở tầng lớp trung lưu trở lên đặt tên người theo từ hán việt như sơn thủy phong phân biệt với nhóm bình dân quê mùa đặt tên theo tiếng thuần việt như núi nước gió tuy nhiên nhiều người nổi tiếng có xu hướng đặt các nghệ danh theo tên hán việt thường được báo chí việt nam gọi là các tên kêu các mỹ từ như nhật kim anh lý nhã kỳ phan đinh tùng quang lê ngô kiến huy',\n",
       " ' nhờ cuộc vận động giữ gìn sự trong sáng của tiếng việt việc sử dụng từ hán việt đã có sự chọn lọc có xu hướng thay thế bằng từ thuần việt khi có thể trong bức thư gửi cho hồ mộ la vào năm một chín năm không chủ tịch hồ chí minh viết răng không kêu chú là chú minh lại kêu bằng minh thúc tiếng ta có thì nên dùng tiếng ta như rứa phổ thông hơn phải không cháu hồ chí minh cũng đề xuất thay thế các từ giám mã bằng giữ ngựa',\n",
       " ' từ có nguồn gốc ấn âu',\n",
       " 'kể từ khi việt nam trở thành thuộc địa của pháp tiếng pháp đã có ảnh hưởng đáng kể đến tiếng việt và các từ ngữ gốc pháp thâm nhập khá nhiều vào tiếng việt chỉ sau từ hán việt sự ảnh hưởng này là do tiếng pháp được sử dụng trong các văn bản giấy tờ của nhà nước và trong giảng dạy ở nhà trường cũng như trong các loại sách báo khác ảnh hưởng này kéo theo sự xuất hiện của nhiều từ gốc pháp trong nhiều lĩnh vực khác nhau đặc biệt là trong khoa học kĩ thuật',\n",
       " ' trong thời kỳ chiến tranh việt nam miền bắc việt nam chịu ảnh hưởng đáng kể của liên xô do đó một số từ gốc nga có điều kiện du nhập vào tiếng việt như xô viết bôn sê vích hoặc các thuật ngữ khoa học kỹ thuật đồng thời cùng với sự tiếp xúc hội nhập ngày càng sâu rộng với thế giới trong tiếng việt cũng xuất hiện các từ ngữ có nguồn gốc từ tiếng anh',\n",
       " ' nhìn chung khi được đưa vào tiếng việt những từ này được việt hoá về mặt âm đọc do vậy những từ đơn âm tiết vay mượn qua khẩu ngữ dễ dàng thâm nhập vào tiếng việt trong khi đó những từ có hai hoặc nhiều âm tiết trở lên được vay mượn thông qua sách vở vẫn còn dấu ấn ngoại lai đặc biệt nhiều từ được vay mượn nguyên dạng nên tạo không ít khó khăn trong cách phát âm',\n",
       " ' từ có nguồn gốc tiếng dân tộc thiểu số',\n",
       " 'là một nước đa sắc tộc với năm bốn dân tộc được công nhận tiếng việt phổ thông tiếp nhận một phần tiếng dân tộc thiểu số gồm từ thông dụng và tên riêng của người hay địa vật và các từ này có thể có vần phi việt quá trình này diễn ra trong suốt chiều dài lịch sử nhưng chưa được nghiên cứu kỹ dựa theo tên người đăng tài trên báo chí và tên địa phương trên các bản đồ hành chính có thể chia ra những cách thức nhập tiếng dân tộc thiểu số như sau',\n",
       " ' một từ tiếng hầu hết các dân tộc từ quảng bình trở ra đã cư trú lâu đời cùng người kinh và hoặc thuộc vùng văn hóa đông á như người mường tày nùng thái thì họ tên người thì theo từ hán việt như các họ triệu đàm cầm đèo còn địa danh thì theo ghi âm như nậm huổi khuổi pắc đôi khi sự giao lưu với người kinh dẫn đến những tên hỗn hợp như hang bua',\n",
       " ' hai từ tiếng h mông thì theo ghi âm mà không theo từ hán việt mặc dù tiếng h mông có quan hệ gần gũi với tiếng hoa ví dụ như các họ vàng giàng hay các địa danh như lao cai sa pa trường hợp loại trừ là họ tên vua mèo được dùng từ hán việt như vương chí sình nhằm thể hiện sự trang trọng',\n",
       " ' ba từ tiếng các dân tộc ở tây nguyên nam bộ thì theo ghi âm là chính như đăk lăk krông pắk hoặc biến âm như sóc trăng nha trang',\n",
       " ' các chữ và vần phi việt được viết theo hướng dẫn trong quyết định hai bốn không qđ về tên riêng không phải tiếng việt trong đó các chữ cái f j w z có thể tùy nghi sử dụng',\n",
       " ' từ hỗn chủng',\n",
       " 'từ hỗn chủng là những từ được tạo thành từ các yếu tố có nguồn gốc khác nhau như giữa yếu tố thuần việt và hán việt giữa yếu tố thuần việt và yếu tố ấn âu cùng với sự phát triển của tiếng việt các từ hỗn chủng được tạo ra ngày càng nhiều đóng vai trò quan trọng trong việc diễn đạt các khái niệm mới trong xã hội hiện đại',\n",
       " ' ví dụ',\n",
       " ' vôi hoá vôi là thuần việt hoá là hán việt',\n",
       " ' ôm kế ôm là từ tiếng đức ohm kế là hán việt',\n",
       " ' nhà băng nhà là thuần việt băng là từ tiếng pháp banque',\n",
       " ' game thủ game là tiếng anh thủ là hán việt',\n",
       " ' chữ viết',\n",
       " 'hiện nay tiếng việt dùng hệ chữ viết như ký tự latin gọi là chữ quốc ngữ theo tài liệu của những nhà truyền giáo bồ đào nha lúc trước chữ quốc ngữ phát triển từ trước thế kỷ thứ xvii rồi được chuẩn định do công của một nhà truyền giáo người pháp tên là alexandre de rhodes ông là người cho in cuốn dictionarium annamiticum lusitanum et latinum năm một sáu năm một']"
      ]
     },
     "execution_count": 11,
     "metadata": {},
     "output_type": "execute_result"
    }
   ],
   "source": [
    "split_text[:100]"
   ]
  },
  {
   "cell_type": "code",
   "execution_count": 12,
   "id": "e14454af",
   "metadata": {},
   "outputs": [],
   "source": [
    "# For each split, perform a .strip() on them\n",
    "cleaned_splits = [s.strip() for s in split_text if s.strip()]"
   ]
  },
  {
   "cell_type": "code",
   "execution_count": 15,
   "id": "1392bead",
   "metadata": {},
   "outputs": [
    {
     "data": {
      "text/plain": [
       "['o herre một chín một tám recording by eleonora olson',\n",
       " 'yeonnam dong',\n",
       " 'để xoa dịu phe cánh nguyễn kính chiêu tông sai giết những người gièm pha trần chân trước đây nhưng kính vẫn tụ tập cướp phá như trước mạc đăng dung khuyên chiêu tông về bảo châu nhưng nội thần đỗ nhạc và nguyễn dư can ngăn đăng dung đem giết cả hai đưa chiêu tông cùng em là lê xuân về bảo châu sau khi chiêu tông rời đông kinh vĩnh hưng bá trịnh tuy cùng bọn giặc sơn tây lập lê bảng con của tĩnh tu công lê lộc lên ngôi đổi thành đại đức đế được nửa năm lại phế bảng mà lập lê do đổi thành thiên hiến đế cả hai đều là cháu bốn đời của cung vương lê khắc xương con thứ hai của thái tông văn hoàng',\n",
       " 'hộ chiếu ngoại giao và công vụ',\n",
       " 'catocala caesia',\n",
       " 'symplocos trichoclada',\n",
       " 'hoặc',\n",
       " 'liên kết ngoài',\n",
       " 'ba the hoaglands solution for hydroponic cultivation science in hydroponics truy cập ngày một tháng một không năm hai không một bốn',\n",
       " 'acacia bombycina']"
      ]
     },
     "execution_count": 15,
     "metadata": {},
     "output_type": "execute_result"
    }
   ],
   "source": [
    "# Set random seed\n",
    "random.seed(42)\n",
    "\n",
    "# Randomize 100 splits\n",
    "randomized_splits = random.sample(cleaned_splits, 100)\n",
    "randomized_splits[:10]"
   ]
  },
  {
   "cell_type": "code",
   "execution_count": 17,
   "id": "7e6c1b29",
   "metadata": {},
   "outputs": [],
   "source": [
    "tokenizer = AutoTokenizer.from_pretrained(\"NlpHUST/vi-word-segmentation\")\n",
    "model = AutoModelForTokenClassification.from_pretrained(\"NlpHUST/vi-word-segmentation\")"
   ]
  },
  {
   "cell_type": "code",
   "execution_count": 18,
   "id": "e58d8e7e",
   "metadata": {},
   "outputs": [
    {
     "name": "stderr",
     "output_type": "stream",
     "text": [
      "Device set to use mps:0\n"
     ]
    }
   ],
   "source": [
    "nlp = pipeline(\"token-classification\", model=model, tokenizer=tokenizer)"
   ]
  },
  {
   "cell_type": "code",
   "execution_count": 21,
   "id": "389e0c7b",
   "metadata": {},
   "outputs": [
    {
     "name": "stdout",
     "output_type": "stream",
     "text": [
      " để xoa_dịu phe_cánh nguyễn kính chiêu_tông sai giết những người gièm_pha trần chân trước_đây nhưng kính vẫn tụ_tập cướp_phá như trước mạc đăng_dung khuyên chiêu_tông về bảo_châu nhưng nội_thần đỗ nhạc và nguyễn_dư can_ngăn đăng_dung đem giết cả hai đưa chiêu tông cùng em là lê_xuân về bảo_châu sau khi chiêu tông rời đông_kinh vĩnh_hưng bá trịnh_tuy cùng bọn giặc sơn_tây lập lê bảng con của tĩnh tu công lê lộc lên_ngôi đổi thành đại đức đế được nửa năm lại phế bảng mà lập lê do đổi thành thiên hiến đế cả hai đều là cháu bốn đời của cung vương lê khắc xương con thứ hai của thái_tông văn hoàng\n"
     ]
    }
   ],
   "source": [
    "example = \"để xoa dịu phe cánh nguyễn kính chiêu tông sai giết những người gièm pha trần chân trước đây nhưng kính vẫn tụ tập cướp phá như trước mạc đăng dung khuyên chiêu tông về bảo châu nhưng nội thần đỗ nhạc và nguyễn dư can ngăn đăng dung đem giết cả hai đưa chiêu tông cùng em là lê xuân về bảo châu sau khi chiêu tông rời đông kinh vĩnh hưng bá trịnh tuy cùng bọn giặc sơn tây lập lê bảng con của tĩnh tu công lê lộc lên ngôi đổi thành đại đức đế được nửa năm lại phế bảng mà lập lê do đổi thành thiên hiến đế cả hai đều là cháu bốn đời của cung vương lê khắc xương con thứ hai của thái tông văn hoàng\"\n",
    "ner_results = nlp(example)\n",
    "ner_results\n",
    "\n",
    "example_tok = \"\"\n",
    "for e in ner_results:\n",
    "    if \"##\" in e[\"word\"]:\n",
    "        example_tok = example_tok + e[\"word\"].replace(\"##\",\"\")\n",
    "    elif e[\"entity\"] ==\"I\":\n",
    "        example_tok = example_tok + \"_\" + e[\"word\"]\n",
    "    else:\n",
    "        example_tok = example_tok + \" \" + e[\"word\"]\n",
    "print(example_tok)"
   ]
  }
 ],
 "metadata": {
  "kernelspec": {
   "display_name": "sudo-code-2025",
   "language": "python",
   "name": "python3"
  },
  "language_info": {
   "codemirror_mode": {
    "name": "ipython",
    "version": 3
   },
   "file_extension": ".py",
   "mimetype": "text/x-python",
   "name": "python",
   "nbconvert_exporter": "python",
   "pygments_lexer": "ipython3",
   "version": "3.9.23"
  }
 },
 "nbformat": 4,
 "nbformat_minor": 5
}
